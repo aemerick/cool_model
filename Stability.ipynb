{
 "cells": [
  {
   "cell_type": "code",
   "execution_count": 97,
   "metadata": {
    "collapsed": true
   },
   "outputs": [],
   "source": [
    "%matplotlib inline\n",
    "\n",
    "import numpy as np\n",
    "import matplotlib.pyplot as plt\n",
    "from astropy import units as u\n",
    "from astropy import constants as const\n",
    "from scipy import integrate, optimize"
   ]
  },
  {
   "cell_type": "code",
   "execution_count": 98,
   "metadata": {
    "collapsed": false
   },
   "outputs": [],
   "source": [
    "import numpy as np\n",
    "import matplotlib.pyplot as plt\n",
    "from astropy import units as u\n",
    "from astropy import constants as const\n",
    "from scipy import integrate, optimize\n",
    "\n",
    "H_o     = 70.0 * (u.km / u.s) / u.Mpc\n",
    "omega_b = 0.0463\n",
    "omega_c = 0.233\n",
    "omega_v = 0.721\n",
    "omega_r = 1.0E-4\n",
    "omega_m = omega_c + omega_b\n",
    "omega   = omega_m + omega_v + omega_r\n",
    "\n",
    "\n",
    "def H(a):\n",
    "    _H = H_o * np.sqrt((omega_v + omega_m*a**(-3) + omega_r*a**(-4) -\\\n",
    "                   (omega - 1.0)*a**(-2)))\n",
    "    return _H.to(u.km/u.s/u.Mpc)\n",
    "    \n",
    "\n",
    "def rho_crit(z):\n",
    "    a = 1.0 / (1.0 + z)\n",
    "    rho_c = 3.0 * (H(a))**2 / (8.0 * np.pi * const.G)\n",
    "    rho_c = rho_c.decompose(bases=u.cgs.bases)\n",
    "    return rho_c.to(u.g/u.cm**(3))\n",
    "\n",
    "class halo:\n",
    "    \n",
    "    def __init__(self, vmax, sigma, f_b, z, T, mu, r_gas = None):\n",
    "        \n",
    "        self._vmax      = vmax\n",
    "        self._sigma     = sigma\n",
    "        self._f_b       = f_b\n",
    "        self._z         = z\n",
    "        self._T         = T\n",
    "        self._mu        = mu\n",
    "        self._r_gas     = r_gas\n",
    "\n",
    "        \n",
    "        if not hasattr(self._vmax, 'unit'):\n",
    "            # assume cgs\n",
    "            self._vmax = self._vmax * u.cm / u.s\n",
    "            \n",
    "        if not hasattr(self._T, 'unit'):\n",
    "            self._T = self._T * u.K\n",
    "            \n",
    "        if not hasattr(self._r_gas, 'unit') and not self._r_gas == None:\n",
    "            self._r_gas = self._r_gas * u.cm\n",
    "        \n",
    "        self._set_properties()\n",
    "        \n",
    "        return\n",
    "    \n",
    "    def potential(self, X):\n",
    "        if hasattr(X,'unit'):\n",
    "            X = X.decompose(bases=u.cgs.bases)\n",
    "            if X.unit == u.cm:\n",
    "                X = X / self.r_s\n",
    "                X = X.decompose()\n",
    "            \n",
    "            X = X.value        \n",
    "            \n",
    "        X = np.asarray(X)\n",
    "        scalar = False\n",
    "        if X.ndim == 0:\n",
    "            X = X[None]\n",
    "            scalar = True\n",
    "        \n",
    "        pot = np.zeros(np.size(X)) * (self.vmax.unit)**2\n",
    "        small_number = 1.0E-16\n",
    "        pot[X <= small_number] = -75.0 / 32.0 * self.vmax**2 * (np.pi / 2.0)\n",
    "        x   = X[X > small_number]\n",
    "        pot[X>small_number] = -75.0 / 32.0 * self.vmax**2 *\\\n",
    "                        ((1.0/x)*(0.5*np.log(1+x**2)+np.log(1+x)-np.arctan(x)) +\\\n",
    "                         np.log(1+x)-0.5*np.log(1+x**2)-np.arctan(x)+np.pi/2.0)\n",
    "        \n",
    "        pot = pot.decompose(bases=u.cgs.bases)\n",
    "        if scalar:\n",
    "            return np.squeeze(pot)\n",
    "        else:\n",
    "            return pot\n",
    "        \n",
    "    def mass(self, x):\n",
    "        if hasattr(x, 'unit'):\n",
    "            x = x.decompose(bases=u.cgs.bases)\n",
    "            \n",
    "            if x.unit == u.cm:\n",
    "                x = x / self.r_s\n",
    "                x = x.decompose()\n",
    "            \n",
    "            x = x.value\n",
    "            \n",
    "        M = 1.5 * self.M_ds * (0.5*np.log(1.0+x**2)+np.log(1.0+x)-np.arctan(x))\n",
    "        \n",
    "        return M.decompose(bases=u.cgs.bases)\n",
    "    \n",
    "    def gas_density(self, x):\n",
    "        if hasattr(x, 'unit'):\n",
    "            x = x.decompose(bases=u.cgs.bases)\n",
    "            \n",
    "            if x.unit == u.cm:\n",
    "                x = x / self.r_s\n",
    "                x = x.decompose()\n",
    "                \n",
    "        return self.rho_s_gas * np.exp(-((self._mu*const.m_p)/(const.k_B*self._T)).decompose() * self.potential(x))\n",
    "    \n",
    "    def gas_pressure(self, x):\n",
    "        if hasattr(x, 'unit'):\n",
    "            x = x.decompose(bases=u.cgs.bases)\n",
    "            \n",
    "            if x.unit == u.cm:\n",
    "                x = x / self.r_s\n",
    "                x = x.decompose()\n",
    "                \n",
    "        return (self.gas_density(x) / (self._mu * const.m_p) * const.k_B * self._T).decompose(bases=u.cgs.bases)\n",
    "    \n",
    "    def _set_properties(self):\n",
    "        # computes M_vir, R_vir\n",
    "        def func(x):\n",
    "            val = self.mass(x) / (4.0 * np.pi * (x*self.r_s)**3 /3.0)\n",
    "            val = (val.to(u.g/u.cm**3)).value\n",
    "            \n",
    "            return (200.0*((rho_crit(self._z)).to(u.g/u.cm**3)).value)\\\n",
    "                   - val\n",
    "        \n",
    "        self.R_vir = self.r_s * optimize.brentq(func, 0.01, 100.0)\n",
    "        self.M_vir = self.mass(self.R_vir / self.r_s)\n",
    "        \n",
    "        func  = lambda x : x*x *np.exp(((-self._mu*const.m_p)/(const.k_B*self._T)).decompose()*self.potential(x))\n",
    "        \n",
    "        if self._r_gas == None:\n",
    "            self._r_gas = self.r_s\n",
    "        \n",
    "        rmax = np.logspace(np.log10((self._r_gas/self.r_s).decompose().value)  - 6,\n",
    "                              np.log10((self._r_gas/self.r_s).decompose().value), 50.0)\n",
    "        denom = 0.0\n",
    "        for i in np.arange(1, np.size(rmax)):\n",
    "            denom += integrate.quad(func, rmax[i-1], rmax[i])[0]\n",
    "            \n",
    "        \n",
    "        denom = denom * 4.0 * np.pi * self.r_s**3\n",
    "        self.rho_s_gas = self._f_b * self.M_vir / denom\n",
    "        \n",
    "        self.rho_s_gas = self.rho_s_gas.to(u.g/u.cm**3)\n",
    "    \n",
    "        return \n",
    "                                  \n",
    "    @property\n",
    "    def mu(self):\n",
    "        return self._mu\n",
    "    @mu.setter\n",
    "    def mu(self,value):\n",
    "        self._mu = value\n",
    "        self._set_properties()\n",
    "        return\n",
    "            \n",
    "                                  \n",
    "    @property\n",
    "    def M_gas(self):\n",
    "        return self.M_vir * self._f_b\n",
    "    \n",
    "    @property\n",
    "    def r_s(self):\n",
    "        \n",
    "        r_s = (210.0 * u.pc) * (self.v_s/(1.0E6*u.cm/u.s))**(1.39) *\\\n",
    "                      10.0**(-0.18*self.sigma)\n",
    "        r_s = r_s.decompose(bases=u.cgs.bases)\n",
    "        \n",
    "        return r_s.to(u.cm)\n",
    "    \n",
    "    @property\n",
    "    def v_s(self):\n",
    "        return self._vmax / 0.8\n",
    "    \n",
    "    @property\n",
    "    def rho_s(self):\n",
    "        amu = 1.66E-24 * u.g / u.cm**3\n",
    "        \n",
    "        rho_s = 5.4 * amu * (self.v_s/(1.0E6*u.cm/u.s))**(-0.78)*\\\n",
    "                     10.0**(0.36*self.sigma)\n",
    "        rho_s.decompose(bases=u.cgs.bases)\n",
    "        \n",
    "        return rho_s.to(u.g / u.cm**3)\n",
    "    \n",
    "    @property\n",
    "    def M_ds(self):\n",
    "        M_ds = 4.0 * np.pi * self.rho_s * self.r_s**3 / 3.0\n",
    "        M_ds = M_ds.decompose(bases=u.cgs.bases)\n",
    "        return M_ds.to(u.g)\n",
    "    \n",
    "    @property\n",
    "    def vmax(self):\n",
    "        return self._vmax\n",
    "    \n",
    "    @vmax.setter\n",
    "    def vmax(self,value):\n",
    "        self._vmax = value\n",
    "        self._set_properties()\n",
    "        return\n",
    "    \n",
    "    @property\n",
    "    def f_b(self):\n",
    "        return self._f_b\n",
    "    \n",
    "    @f_b.setter\n",
    "    def f_b(self,value):\n",
    "        self._f_b = value\n",
    "        self._set_properties()\n",
    "        return\n",
    "    \n",
    "    @property\n",
    "    def sigma(self):\n",
    "        return self._sigma\n",
    "    \n",
    "    @sigma.setter\n",
    "    def sigma(self,value):\n",
    "        self._sigma = value\n",
    "        self._set_properites()\n",
    "        return\n",
    "    \n",
    "    def print_properties(self):\n",
    "        print \"r_s   = %.4E pc\"%(self.r_s.to(u.pc).value)\n",
    "        print \"v_c   = %.1f km/s\"%(self._vmax.to(u.km/u.s).value)\n",
    "        print \"f_b   = %.3f\"%(self._f_b)\n",
    "        print \"T     = %.4E K\"%(self._T.value)\n",
    "        print \"M_gas = %.4E Msun\"%(self.M_gas.to(u.Msun).value)\n",
    "        print \"M_vir = %.4E Msun\"%(self.M_vir.to(u.Msun).value)\n",
    "        print \"R_vir = %.4E kpc\"%(self.R_vir.to(u.kpc).value)\n",
    "        rho_s_gas = self.rho_s_gas.to(u.g/u.cm**3)\n",
    "        n_s_gas   = (rho_s_gas / (self._mu * const.m_p)).decompose(bases=u.cgs.bases)\n",
    "        print \"rho_s_gas = %.2E cgs    n_s_gas = %.2E cgs\"%(rho_s_gas.value, n_s_gas.value)\n",
    "        rho_o_gas = self.gas_density(0.0).to(u.g/u.cm**3)\n",
    "        n_o_gas   = (rho_o_gas / (self._mu * const.m_p)).decompose(bases=u.cgs.bases)\n",
    "        print \"rho_o_gas = %.2E cgs    n_o_gas =  %.2E cgs\"%(rho_o_gas.value, n_o_gas.value)\n",
    "        \n",
    "        \n",
    "    def thermal_gradient(self, x, dx = None):\n",
    "        if hasattr(x, 'unit'):\n",
    "            x = x.decompose(bases=u.cgs.bases)\n",
    "                \n",
    "            if x.unit == u.cm:\n",
    "                x = x / self.r_s\n",
    "                x = x.decompose()\n",
    "                \n",
    "        if not dx == None: \n",
    "            if hasattr(dx, 'unit'):\n",
    "                dx = dx.decompose(bases=u.cgs.bases)\n",
    "              \n",
    "                if dx.unit == u.cm:\n",
    "                    dx = dx / self.r_s\n",
    "                    dx = dx.decompose()\n",
    "        else:\n",
    "            dx = 1.0E-3 * x\n",
    "            \n",
    "        if np.size(x) > 1:            \n",
    "            gas_density  = self.gas_density(x[1:])\n",
    "            gas_pressure = self.gas_pressure(x)\n",
    "            \n",
    "            dPdr         = np.diff(gas_pressure) / np.diff(x)\n",
    "            \n",
    "        else:\n",
    "            gas_density  = self.gas_density(x)\n",
    "            dP           = self.gas_pressure(x+dx) - self.gas_pressure(x) \n",
    "            dPdr         = dP / dx\n",
    "        \n",
    "        result = dPdr / gas_density / self.r_s\n",
    "        \n",
    "        result = result.decompose(bases=u.cgs.bases)\n",
    "        \n",
    "        return result\n",
    "    \n",
    "    def acceleration(self, x, dx = None):\n",
    "        if hasattr(x, 'unit'):\n",
    "            x = x.decompose(bases=u.cgs.bases)\n",
    "                \n",
    "            if x.unit == u.cm:\n",
    "                x = x / self.r_s\n",
    "                x = x.decompose()\n",
    "                \n",
    "        if not dx == None: \n",
    "            if hasattr(dx, 'unit'):\n",
    "                dx = dx.decompose(bases=u.cgs.bases)\n",
    "                \n",
    "                if dx.unit == u.cm:\n",
    "                    dx = dx / self.r_s\n",
    "                    dx = dx.decompose()\n",
    "        else:\n",
    "            dx = 1.0E-3 * x\n",
    "            \n",
    "        if np.size(x) > 1:\n",
    "            dPhidr = np.diff( self.potential(x)) / np.diff(x)\n",
    "            \n",
    "        else:\n",
    "            dPhidr = (self.potential(x+dx) - self.potential(x)) / dx\n",
    "        \n",
    "        dPhidr = dPhidr / self.r_s\n",
    "        dPhidr = dPhidr.decompose(bases=u.cgs.bases)\n",
    "        \n",
    "        return dPhidr"
   ]
  },
  {
   "cell_type": "code",
   "execution_count": 117,
   "metadata": {
    "collapsed": false
   },
   "outputs": [
    {
     "name": "stderr",
     "output_type": "stream",
     "text": [
      "/home/emerick/anaconda/lib/python2.7/site-packages/ipykernel/__main__.py:126: RuntimeWarning: overflow encountered in exp\n"
     ]
    }
   ],
   "source": [
    "h = halo(vmax = 200.0*u.km/u.s, sigma = 0.0, f_b = 0.002, z = 0.0, T = 1.0E4, mu = 1.1)"
   ]
  },
  {
   "cell_type": "code",
   "execution_count": 118,
   "metadata": {
    "collapsed": false
   },
   "outputs": [
    {
     "name": "stdout",
     "output_type": "stream",
     "text": [
      "r_s   = 1.8423E+04 pc\n",
      "v_c   = 200.0 km/s\n",
      "f_b   = 0.002\n",
      "T     = 1.0000E+04 K\n",
      "M_gas = 3.1384E+09 Msun\n",
      "M_vir = 1.5692E+12 Msun\n",
      "R_vir = 2.3973E+02 kpc\n",
      "rho_s_gas = 0.00E+00 cgs    n_s_gas = 0.00E+00 cgs\n",
      "rho_o_gas = NAN cgs    n_o_gas =  NAN cgs\n"
     ]
    },
    {
     "name": "stderr",
     "output_type": "stream",
     "text": [
      "/home/emerick/anaconda/lib/python2.7/site-packages/ipykernel/__main__.py:103: RuntimeWarning: overflow encountered in exp\n"
     ]
    }
   ],
   "source": [
    "h.print_properties()"
   ]
  },
  {
   "cell_type": "code",
   "execution_count": 113,
   "metadata": {
    "collapsed": false
   },
   "outputs": [
    {
     "name": "stdout",
     "output_type": "stream",
     "text": [
      "-4.18747850639e-09 cm / s2\n",
      "4.19413443301e-09 cm / s2\n"
     ]
    },
    {
     "name": "stderr",
     "output_type": "stream",
     "text": [
      "/home/emerick/anaconda/lib/python2.7/site-packages/ipykernel/__main__.py:103: RuntimeWarning: overflow encountered in exp\n"
     ]
    },
    {
     "data": {
      "text/plain": [
       "[<matplotlib.lines.Line2D at 0x7fef0a619350>]"
      ]
     },
     "execution_count": 113,
     "metadata": {},
     "output_type": "execute_result"
    },
    {
     "data": {
      "image/png": "[encoded data removed]",
      "text/plain": [
       "<matplotlib.figure.Figure at 0x7fef0a8cb250>"
      ]
     },
     "metadata": {},
     "output_type": "display_data"
    }
   ],
   "source": [
    "print h.thermal_gradient(1.0)\n",
    "print h.acceleration(1.0)\n",
    "\n",
    "x = np.linspace(0.0, 10.0, 100000)\n",
    "plt.plot(x[1:],  -h.thermal_gradient(x).value, lw = 3, color = 'red')\n",
    "plt.plot(x[1:],   h.acceleration(x).value, lw = 3, color = 'black')\n"
   ]
  },
  {
   "cell_type": "code",
   "execution_count": 120,
   "metadata": {
    "collapsed": false
   },
   "outputs": [
    {
     "data": {
      "text/plain": [
       "[<matplotlib.lines.Line2D at 0x7fef0a42f9d0>]"
      ]
     },
     "execution_count": 120,
     "metadata": {},
     "output_type": "execute_result"
    },
    {
     "data": {
      "image/png": "[encoded data removed]",
      "text/plain": [
       "<matplotlib.figure.Figure at 0x7fef0a4fded0>"
      ]
     },
     "metadata": {},
     "output_type": "display_data"
    }
   ],
   "source": [
    "plt.plot(x[1:], np.sqrt(h.r_s*x[1:]*h.acceleration(x)).to(u.km/u.s).value, lw = 3, color = 'black')\n",
    "plt.plot([3.25,3.25],plt.ylim())\n",
    "plt.plot(plt.xlim(),[200.0,200.0])"
   ]
  },
  {
   "cell_type": "code",
   "execution_count": null,
   "metadata": {
    "collapsed": true
   },
   "outputs": [],
   "source": []
  }
 ],
 "metadata": {
  "kernelspec": {
   "display_name": "Python 2",
   "language": "python",
   "name": "python2"
  },
  "language_info": {
   "codemirror_mode": {
    "name": "ipython",
    "version": 2
   },
   "file_extension": ".py",
   "mimetype": "text/x-python",
   "name": "python",
   "nbconvert_exporter": "python",
   "pygments_lexer": "ipython2",
   "version": "2.7.11"
  }
 },
 "nbformat": 4,
 "nbformat_minor": 0
}
